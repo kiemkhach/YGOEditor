{
 "cells": [
  {
   "cell_type": "code",
   "execution_count": 68,
   "id": "bd36d689-7000-4f81-bf65-fe92ce2eeeba",
   "metadata": {},
   "outputs": [],
   "source": [
    "import re\n",
    "import pandas as pd\n",
    "import requests\n",
    "import urllib\n",
    "import json\n",
    "from string import ascii_letters, digits\n",
    "import time\n",
    "import urllib"
   ]
  },
  {
   "cell_type": "code",
   "execution_count": 69,
   "id": "81434c2f-404e-420a-8e0f-d183b7e9fcd5",
   "metadata": {},
   "outputs": [],
   "source": [
    "def parse_card_list():\n",
    "    f = open(\"card_list.txt\", \"r\")\n",
    "    data = f.readlines()\n",
    "    f.close()\n",
    "    dataset = [[data[i].strip('//').strip(),\n",
    "                data[i + 1].strip('//').strip().split()[0].split(':')[0],\n",
    "                data[i + 1].strip('//').strip().split()[0].split(':')[0].strip('[').strip(']'),\n",
    "                data[i + 2].strip('')] for i in range(0, len(data), 4)]\n",
    "    df = pd.DataFrame(dataset, columns=['Name', 'Index', 'ID', 'File'])\n",
    "    df = df.replace(r'\\n',' ', regex=True) \n",
    "    df_er = df[(df['File'].str.lower().str.contains(\"token\")) & (~df['Name'].str.lower().str.contains(\"token\"))]\n",
    "    return df, df_er"
   ]
  },
  {
   "cell_type": "code",
   "execution_count": 70,
   "id": "deabc1f6-4ce4-4146-ab46-2129b61eb736",
   "metadata": {},
   "outputs": [],
   "source": [
    "df_org, df_er = parse_card_list()"
   ]
  },
  {
   "cell_type": "code",
   "execution_count": 71,
   "id": "66f494d6-1866-48a0-ac33-c681e4c5be7c",
   "metadata": {},
   "outputs": [],
   "source": [
    "#df_org.to_csv('card_list.csv', index=False)\n",
    "#df_er.to_csv('card_list_er.csv', index=False, encoding='utf-8')"
   ]
  },
  {
   "cell_type": "code",
   "execution_count": null,
   "id": "45ef1b3a-758a-4647-928a-bc1b0ca5e9ff",
   "metadata": {},
   "outputs": [],
   "source": []
  },
  {
   "cell_type": "code",
   "execution_count": null,
   "id": "cbeadcfc-27ec-4bf8-b408-e15ac5ffaf38",
   "metadata": {},
   "outputs": [],
   "source": [
    "\"url = \"https://db.ygoprodeck.com/api/v7/cardinfo.php?name=\"\n",
    "rs = []\n",
    "err_name = []\n",
    "for name in df_er['Name']:\n",
    "    response = requests.get(url + urllib.parse.quote(name.encode('utf-8')))\n",
    "    if response.status_code == 200:\n",
    "        rs.append(response.json())\n",
    "    else:\n",
    "        err_name.append(name)\n",
    "    time.sleep(1)\n",
    "\n",
    "with open(\"rs.json\", \"w\") as outfile:\n",
    "    outfile.write(json.dumps(rs, indent=4))\n",
    "with open(\"rs_err.json\", \"w\") as outfile:\n",
    "    outfile.write(json.dumps(err_name, indent=4))"
   ]
  },
  {
   "cell_type": "code",
   "execution_count": 72,
   "id": "7d7d7c6d-e575-429b-9670-c0e8abb11d3a",
   "metadata": {},
   "outputs": [],
   "source": [
    "f = open('rs.json')\n",
    "data = json.load(f)\n",
    "f.close()"
   ]
  },
  {
   "cell_type": "code",
   "execution_count": 73,
   "id": "8310c5be-a0d2-43ba-8315-943ea8c03fbd",
   "metadata": {},
   "outputs": [],
   "source": [
    "dt = {item['data'][0]['name']: {\n",
    "    'card_code': [it['set_code'] for it in item['data'][0]['card_sets']] if 'card_sets' in item['data'][0] else [],\n",
    "    'image_url': item['data'][0]['card_images'][0]['image_url'],\n",
    "    'image_url_small': item['data'][0]['card_images'][0]['image_url_small'],\n",
    "    'desc': item['data'][0]['desc'],\n",
    "} for item in data}"
   ]
  },
  {
   "cell_type": "code",
   "execution_count": 89,
   "id": "6281ff24-1059-419f-abb6-b77ba88635e9",
   "metadata": {},
   "outputs": [],
   "source": [
    "count = 0\n",
    "count_null = 0\n",
    "for name, card in dt.items():\n",
    "    pre_proc = []\n",
    "    f = False\n",
    "    for code in card['card_code']:\n",
    "        w = 0\n",
    "        p1, p2 = code.split('-')\n",
    "        p1a = p1\n",
    "        if len(p1a) > 3:\n",
    "            p1a = re.sub('[0-9]', '', p1)\n",
    "            w += 0.5\n",
    "        p2a = p2.lstrip('EN').lstrip('E')\n",
    "        if len(p1a) == 3 and len(p2a) <= 3 and p2a.isnumeric():\n",
    "            f = True\n",
    "            if any(map(str.isdigit, p1a)):\n",
    "                w += 0.5\n",
    "            pre_proc.append((p1a, p2a, w))\n",
    "        else:\n",
    "            p1b = p1a\n",
    "            if len(p1a) != 3:\n",
    "                p1b = p1.replace('0', '')\n",
    "                w += 1\n",
    "            p2b = p2a\n",
    "            if not (len(p2a) <= 3 and p2a.isnumeric()):\n",
    "                p2b = p2.lstrip(ascii_letters)\n",
    "                w += 1\n",
    "            if len(p1b) == 3 and len(p2b) <= 3 and p2b.isnumeric():\n",
    "                f = True\n",
    "                pre_proc.append((p1b, p2b, w))\n",
    "            else:\n",
    "                p1c = p1b\n",
    "                if len(p1c) > 3:\n",
    "                    if not p1c[-1].isnumeric():\n",
    "                        p1c = p1b[0:-1]\n",
    "                        w += 1\n",
    "                if len(p1c) == 3 and len(p2b) <= 3 and p2b.isnumeric():\n",
    "                    f = True\n",
    "                    pre_proc.append((p1c, p2b, w))\n",
    "                else:\n",
    "                    w = 100\n",
    "                    pre_proc.append((p1, p2, w))\n",
    "    if len(card['card_code']) == 0:\n",
    "        card['file'] = ''\n",
    "        count_null += 1\n",
    "    else:\n",
    "        tmp = None\n",
    "        for item in pre_proc:\n",
    "            if (tmp is None) or (item[2] < tmp[2]):\n",
    "                tmp = item\n",
    "        card['file'] = tmp[0] + tmp[1].zfill(3) + '.bmp'\n",
    "    if not f and len(card['card_code']) != 0:\n",
    "        count += 1"
   ]
  },
  {
   "cell_type": "code",
   "execution_count": 90,
   "id": "3ead5bde-dd1d-45a1-a4f8-ce79ee7b513c",
   "metadata": {},
   "outputs": [
    {
     "data": {
      "text/plain": [
       "151"
      ]
     },
     "execution_count": 90,
     "metadata": {},
     "output_type": "execute_result"
    }
   ],
   "source": [
    "count_null"
   ]
  },
  {
   "cell_type": "code",
   "execution_count": null,
   "id": "abc0dfd9-e933-4dc1-802d-022bdd811012",
   "metadata": {},
   "outputs": [],
   "source": [
    "for n in df[df['File'] == '']['Name']:\n",
    "    response = requests.get(url + urllib.parse.quote(name.encode('utf-8')))\n",
    "    if response.status_code == 200:\n",
    "        rs.append(response.json())"
   ]
  },
  {
   "cell_type": "code",
   "execution_count": 111,
   "id": "cdc7be5b-347f-4e03-83e7-ec19a861cc4d",
   "metadata": {},
   "outputs": [],
   "source": [
    "response = requests.get(\"https://yugipedia.com/api.php?action=parse&page=\" + \"Aqua Snake\".replace(' ', '_'))"
   ]
  },
  {
   "cell_type": "code",
   "execution_count": 113,
   "id": "bf2726a2-18e7-41ab-b120-1445f01061ed",
   "metadata": {},
   "outputs": [
    {
     "data": {
      "text/plain": [
       "'<html>\\r\\n<head><title>403 Forbidden</title><script type=\"text/javascript\">!(function(o,_name){o[_name]=o[_name]||function $(){($.q=$.q||[]).push(arguments)},o[_name].v=o[_name].v||2;!(function(o,t,n,f,e,i){function c(f,e){(f=(function(t,n){try{if(n=(t=o.localStorage).getItem(\"_aQS02NTY3QTBBMkYxNkI4MjZERENFNEJDNDctNA\"))return JSON.parse(n).lgk||[];if((t.getItem(\"v4ac1eiZr0\")||\"\").split(\",\")[4]>0)return[[_name+\"-engaged\",\"true\"]]}catch(f){}})())&&typeof f.forEach===n&&(e=o[t].pubads())&&f.forEach((function(o){o&&o[0]&&e.setTargeting(o[0],o[1]||\"\")}))}(i=o[t]=o[t]||{}).cmd=i.cmd||[],typeof i.pubads===n?c():typeof i.cmd.unshift===n?i.cmd.unshift(c):i.cmd.push(c)})(window,\"googletag\",\"function\");;})(window,decodeURI(\\'a%64m%69%72%61l\\'));!(function(t,c,i){i=t.createElement(c),t=t.getElementsByTagName(c)[0],i.async=1,i.src=\"https://possiblepencil.com/chunks/387a751e9ddb36cc00f96dc9bab4af81c9c7-prod.js\",t.parentNode.insertBefore(i,t)})(document,\"script\");</script></head>\\r\\n<body bgcolor=\"white\">\\r\\n<center><h1>403 Forbidden</h1></center>\\r\\n<hr><center>nginx/1.10.3 (Ubuntu)</center>\\r\\n</body>\\r\\n</html>\\r\\n'"
      ]
     },
     "execution_count": 113,
     "metadata": {},
     "output_type": "execute_result"
    }
   ],
   "source": [
    "response.text"
   ]
  },
  {
   "cell_type": "code",
   "execution_count": null,
   "id": "f11e37b6-6ed3-433d-9487-607f0e3194e1",
   "metadata": {},
   "outputs": [],
   "source": [
    "dt[\"Aqua Snake\"][\"file\"] = \"B05003\"\n",
    "dt[\"Acid Crawler\"][\"file\"] = \"VL5001\"\n",
    "dt[\"Fiend Reflection #1\"][\"file\"] = \"VL4020\"\n",
    "dt[\"Arlownay\"][\"file\"] = \"VL7004\"\n",
    "dt[\"Arma Knight\"][\"file\"] = \"VL7005\"\n",
    "dt[\"Fairy of the Fountain\"][\"file\"] = \"DL4095\"\n",
    "dt[\"Living Vase\"][\"file\"] = \"VL3017\"\n",
    "dt[\"Minomushi Warrior\"][\"file\"] = \"BR2026\"\n",
    "dt[\"Horn Imp\"][\"file\"] = \"VL6022\"\n",
    "dt[\"Wing Eagle\"][\"file\"] = \"\"\n",
    "dt[\"Wing Egg Elf\"][\"file\"] = \"\"\n",
    "dt[\"Weather Control\"][\"file\"] = \"\"\n",
    "dt[\"Rock Ogre Grotto #2\"][\"file\"] = \"\"\n",
    "dt[\"Water Element\"][\"file\"] = \"\"\n",
    "dt[\"Water Girl\"][\"file\"] = \"\"\n",
    "dt[\"Beautiful Beast Trainer\"][\"file\"] = \"\"\n",
    "dt[\"Wood Clown\"][\"file\"] = \"\"\n",
    "dt[\"Waterdragon Fairy\"][\"file\"] = \"\"\n",
    "dt[\"Candle of Fate\"][\"file\"] = \"\"\n",
    "dt[\"Air Eater\"][\"file\"] = \"\"\n",
    "dt[\"Eldeen\"][\"file\"] = \"\"\n",
    "dt[\"Fairywitch\"][\"file\"] = \"\"\n",
    "dt[\"Ghoul with an Appetite\"][\"file\"] = \"\"\n",
    "dt[\"Tao the Chanter\"][\"file\"] = \"\"\n",
    "dt[\"Akihiron\"][\"file\"] = \"\"\n",
    "dt[\"Spirit of the Winds\"][\"file\"] = \"\"\n",
    "dt[\"Djinn the Watcher of the Wind\"][\"file\"] = \"\"\n",
    "dt[\"Kanikabuto\"][\"file\"] = \"\"\n",
    "dt[\"Ganigumo\"][\"file\"] = \"\"\n",
    "dt[\"Kamakiriman\"][\"file\"] = \"\"\n",
    "dt[\"Masked Clown\"][\"file\"] = \"\"\n",
    "dt[\"Crow Goblin\"][\"file\"] = \"\"\n",
    "dt[\"Garvas\"][\"file\"] = \"\"\n",
    "dt[\"Boulder Tortoise\"][\"file\"] = \"\"\n",
    "dt[\"Rock Spirit\"][\"file\"] = \"\"\n",
    "dt[\"Barrel Rock\"][\"file\"] = \"\"\n",
    "dt[\"Cyber Soldier\"][\"file\"] = \"\"\n",
    "dt[\"Kattapillar\"][\"file\"] = \"\"\n",
    "dt[\"Monstrous Bird\"][\"file\"] = \"\"\n",
    "dt[\"Beaked Snake\"][\"file\"] = \"\"\n",
    "dt[\"Togex\"][\"file\"] = \"\"\n",
    "dt[\"Grappler\"][\"file\"] = \"\"\n",
    "dt[\"Krokodilus\"][\"file\"] = \"\"\n",
    "dt[\"Twin Long Rods #1\"][\"file\"] = \"\"\n",
    "dt[\"Gorgon Egg\"][\"file\"] = \"\"\n",
    "dt[\"Phantom Ghost\"][\"file\"] = \"\"\n",
    "dt[\"Ice Water\"][\"file\"] = \"\"\n",
    "dt[\"Ancient Sorcerer\"][\"file\"] = \"\"\n",
    "dt[\"Eyearmor\"][\"file\"] = \"\"\n",
    "dt[\"Cyber Commander\"][\"file\"] = \"\"\n",
    "dt[\"Korogashi\"][\"file\"] = \"\"\n",
    "dt[\"Torike\"][\"file\"] = \"\"\n",
    "dt[\"Mech Bass\"][\"file\"] = \"\"\n",
    "dt[\"Phantom Dewan\"][\"file\"] = \"\"\n",
    "dt[\"Ancient Tree of Enlightenment\"][\"file\"] = \"\"\n",
    "dt[\"Lisark\"][\"file\"] = \"\"\n",
    "dt[\"The Wandering Doomed\"][\"file\"] = \"\"\n",
    "dt[\"Zarigun\"][\"file\"] = \"\"\n",
    "dt[\"30,000-Year White Turtle\"][\"file\"] = \"\"\n",
    "dt[\"Sea King Dragon\"][\"file\"] = \"\"\n",
    "dt[\"Tatsunootoshigo\"][\"file\"] = \"\"\n",
    "dt[\"Fiend's Hand\"][\"file\"] = \"\"\n",
    "dt[\"Dokuroizo the Grim Reaper\"][\"file\"] = \"\"\n",
    "dt[\"Genin\"][\"file\"] = \"\"\n",
    "dt[\"Abyss Flower\"][\"file\"] = \"\"\n",
    "dt[\"Emperor of the Land and Sea\"][\"file\"] = \"\"\n",
    "dt[\"Stone Ghost\"][\"file\"] = \"\"\n",
    "dt[\"Mystical Capture Chain\"][\"file\"] = \"\"\n",
    "dt[\"Ill Witch\"][\"file\"] = \"\"\n",
    "dt[\"Lord of Zemia\"][\"file\"] = \"\"\n",
    "dt[\"Solitude\"][\"file\"] = \"\"\n",
    "dt[\"Mech Mole Zombie\"][\"file\"] = \"\"\n",
    "dt[\"Dark Chimera\"][\"file\"] = \"\"\n",
    "dt[\"Dark Shade\"][\"file\"] = \"\"\n",
    "dt[\"Dark Plant\"][\"file\"] = \"\"\n",
    "dt[\"Turtle Raccoon\"][\"file\"] = \"\"\n",
    "dt[\"Ancient Jar\"][\"file\"] = \"\"\n",
    "dt[\"Dice Armadillo\"][\"file\"] = \"\"\n",
    "dt[\"Orion the Battle King\"][\"file\"] = \"\"\n",
    "dt[\"One Who Hunts Souls\"][\"file\"] = \"\"\n",
    "dt[\"Winged Egg of New Life\"][\"file\"] = \"\"\n",
    "dt[\"Lunar Queen Elzaim\"][\"file\"] = \"\"\n",
    "dt[\"Giant Scorpion of the Tundra\"][\"file\"] = \"\"\n",
    "dt[\"The Drdek\"][\"file\"] = \"\"\n",
    "dt[\"Serpent Marauder\"][\"file\"] = \"\"\n",
    "dt[\"Spiked Snail\"][\"file\"] = \"\"\n",
    "dt[\"Graveyard and the Hand of Invitation\"][\"file\"] = \"\"\n",
    "dt[\"Job-Change Mirror\"][\"file\"] = \"\"\n",
    "dt[\"Tentacle Plant\"][\"file\"] = \"\"\n",
    "dt[\"Tenderness\"][\"file\"] = \"\"\n",
    "dt[\"Toad Master\"][\"file\"] = \"\"\n",
    "dt[\"Dragon Statue\"][\"file\"] = \"\"\n",
    "dt[\"Doriado\"][\"file\"] = \"\"\n",
    "dt[\"Dorover\"][\"file\"] = \"\"\n",
    "dt[\"Doron\"][\"file\"] = \"\"\n",
    "dt[\"The Melting Red Shadow\"][\"file\"] = \"\"\n",
    "dt[\"The Thing That Hides in the Mud\"][\"file\"] = \"\"\n",
    "dt[\"Nightmare Scorpion\"][\"file\"] = \"\"\n",
    "dt[\"Night Lizard\"][\"file\"] = \"\"\n",
    "dt[\"Mystery Hand\"][\"file\"] = \"\"\n",
    "dt[\"Fiend Sword\"][\"file\"] = \"\"\n",
    "dt[\"Bio Plant\"][\"file\"] = \"\"\n",
    "dt[\"Bat\"][\"file\"] = \"\"\n",
    "dt[\"Hurricail\"][\"file\"] = \"\"\n",
    "dt[\"Man-Eating Plant\"][\"file\"] = \"\"\n",
    "dt[\"Hitodenchak\"][\"file\"] = \"\"\n",
    "dt[\"Hyo\"][\"file\"] = \"\"\n",
    "dt[\"Fire Eye\"][\"file\"] = \"\"\n",
    "dt[\"Synchar\"][\"file\"] = \"\"\n",
    "dt[\"Vishwar Randi\"][\"file\"] = \"\"\n",
    "dt[\"Binding Chain\"][\"file\"] = \"\"\n",
    "dt[\"Boo Koo\"][\"file\"] = \"\"\n",
    "dt[\"Kappa Avenger\"][\"file\"] = \"\"\n",
    "dt[\"Gate Deeg\"][\"file\"] = \"\"\n",
    "dt[\"Lucky Trinket\"][\"file\"] = \"\"\n",
    "dt[\"Pot the Trick\"][\"file\"] = \"\"\n",
    "dt[\"Bone Mouse\"][\"file\"] = \"\"\n",
    "dt[\"Bolt Escargot\"][\"file\"] = \"\"\n",
    "dt[\"Holograh\"][\"file\"] = \"\"\n",
    "dt[\"White Dolphin\"][\"file\"] = \"\"\n",
    "dt[\"Mountain Warrior\"][\"file\"] = \"\"\n",
    "dt[\"Fungi of the Musk\"][\"file\"] = \"\"\n",
    "dt[\"Mabarrel\"][\"file\"] = \"\"\n",
    "dt[\"Barrel Lily\"][\"file\"] = \"\"\n",
    "dt[\"Machine Attacker\"][\"file\"] = \"\"\n",
    "dt[\"Madjinn Gunn\"][\"file\"] = \"\"\n",
    "dt[\"Wicked Dragon with the Ersatz Head\"][\"file\"] = \"\"\n",
    "dt[\"Embryonic Beast\"][\"file\"] = \"\"\n",
    "dt[\"Midnight Fiend\"][\"file\"] = \"\"\n",
    "dt[\"B. Dragon Jungle King\"][\"file\"] = \"\"\n",
    "dt[\"Muse-A\"][\"file\"] = \"\"\n",
    "dt[\"The Bewitching Phantom Thief\"][\"file\"] = \"\"\n",
    "dt[\"Mechaleon\"][\"file\"] = \"\"\n",
    "dt[\"Megirus Light\"][\"file\"] = \"\"\n",
    "dt[\"Supporter in the Shadows\"][\"file\"] = \"\"\n",
    "dt[\"Wood Remains\"][\"file\"] = \"\"\n",
    "dt[\"Monsturtle\"][\"file\"] = \"\"\n",
    "dt[\"Mon Larvas\"][\"file\"] = \"\"\n",
    "dt[\"Yashinoki\"][\"file\"] = \"\"\n",
    "dt[\"Yamatano Dragon Scroll\"][\"file\"] = \"\"\n",
    "dt[\"Spirit of the Mountain\"][\"file\"] = \"\"\n",
    "dt[\"Yormungarde\"][\"file\"] = \"\"\n",
    "dt[\"Armored Rat\"][\"file\"] = \"\"\n",
    "dt[\"Zanki\"][\"file\"] = \"\"\n",
    "dt[\"LaMoon\"][\"file\"] = \"\"\n",
    "dt[\"LaLa Li-oon\"][\"file\"] = \"\"\n",
    "dt[\"Rainbow Marine Mermaid\"][\"file\"] = \"\"\n",
    "dt[\"Leo Wizard\"][\"file\"] = \"\"\n",
    "dt[\"Akakieisu\"][\"file\"] = \"\"\n",
    "dt[\"Royal Guard\"][\"file\"] = \"\"\n",
    "dt[\"Laughing Flower\"][\"file\"] = \"\""
   ]
  },
  {
   "cell_type": "code",
   "execution_count": 80,
   "id": "37f7e011-efd5-4004-b729-2e9a19a3db26",
   "metadata": {},
   "outputs": [],
   "source": [
    "df = pd.DataFrame([[name, dt[name]['file'], dt[name]['image_url'],\n",
    "                   dt[name]['image_url_small'], dt[name]['desc']] for name in dt],\n",
    "                 columns=['Name', 'File', 'Img', 'Imgs', 'Desc'])"
   ]
  },
  {
   "cell_type": "code",
   "execution_count": 81,
   "id": "7fec93be-172c-4374-b5e5-37716fedf176",
   "metadata": {},
   "outputs": [],
   "source": [
    "df_rs = pd.merge(df_er, df, how='left', on=['Name'], suffixes=(\"1\", \"2\"))\n",
    "df_rs['File'] = df_rs.pop('File2').fillna(df_rs.pop('File1'))"
   ]
  },
  {
   "cell_type": "code",
   "execution_count": 93,
   "id": "3760aacb-ef0a-4deb-97df-b79c6470ecd7",
   "metadata": {},
   "outputs": [],
   "source": [
    "#for n in df[df['File'] == '']['Name']:\n",
    "#    print('dt[\"%s\"][\"file\"] = \"\"' % n)"
   ]
  },
  {
   "cell_type": "code",
   "execution_count": 94,
   "id": "955f1906-0c4b-4c4e-b5ff-2481e0ca24b4",
   "metadata": {},
   "outputs": [
    {
     "data": {
      "text/html": [
       "<div>\n",
       "<style scoped>\n",
       "    .dataframe tbody tr th:only-of-type {\n",
       "        vertical-align: middle;\n",
       "    }\n",
       "\n",
       "    .dataframe tbody tr th {\n",
       "        vertical-align: top;\n",
       "    }\n",
       "\n",
       "    .dataframe thead th {\n",
       "        text-align: right;\n",
       "    }\n",
       "</style>\n",
       "<table border=\"1\" class=\"dataframe\">\n",
       "  <thead>\n",
       "    <tr style=\"text-align: right;\">\n",
       "      <th></th>\n",
       "      <th>Name</th>\n",
       "      <th>File</th>\n",
       "      <th>Desc</th>\n",
       "    </tr>\n",
       "  </thead>\n",
       "  <tbody>\n",
       "    <tr>\n",
       "      <th>0</th>\n",
       "      <td>Rhaimundos of the Red Sword</td>\n",
       "      <td>AP8014.bmp</td>\n",
       "      <td>Armed with the Sword of Crimson Flames, this w...</td>\n",
       "    </tr>\n",
       "    <tr>\n",
       "      <th>1</th>\n",
       "      <td>Aqua Snake</td>\n",
       "      <td></td>\n",
       "      <td>This monster hypnotizes an opponent with the b...</td>\n",
       "    </tr>\n",
       "    <tr>\n",
       "      <th>2</th>\n",
       "      <td>Aqua Dragon</td>\n",
       "      <td>MDP013.bmp</td>\n",
       "      <td>\"Fairy Dragon\" + \"Amazon of the Seas\" + \"Zone ...</td>\n",
       "    </tr>\n",
       "    <tr>\n",
       "      <th>3</th>\n",
       "      <td>Unknown Warrior of Fiend</td>\n",
       "      <td>SDK017.bmp</td>\n",
       "      <td>The speed of this warrior creates an intense v...</td>\n",
       "    </tr>\n",
       "    <tr>\n",
       "      <th>4</th>\n",
       "      <td>Beastly Mirror Ritual</td>\n",
       "      <td>PRC002.bmp</td>\n",
       "      <td>This card is used to Ritual Summon \"Fiend's Mi...</td>\n",
       "    </tr>\n",
       "    <tr>\n",
       "      <th>...</th>\n",
       "      <td>...</td>\n",
       "      <td>...</td>\n",
       "      <td>...</td>\n",
       "    </tr>\n",
       "    <tr>\n",
       "      <th>314</th>\n",
       "      <td>Key Mace #2</td>\n",
       "      <td>WCP005.bmp</td>\n",
       "      <td>This fiend brings out the worst in everyone.</td>\n",
       "    </tr>\n",
       "    <tr>\n",
       "      <th>315</th>\n",
       "      <td>Laughing Flower</td>\n",
       "      <td></td>\n",
       "      <td>A flower whose laugh can confuse the minds of ...</td>\n",
       "    </tr>\n",
       "    <tr>\n",
       "      <th>316</th>\n",
       "      <td>Obelisk the Tormentor</td>\n",
       "      <td>EGO001.bmp</td>\n",
       "      <td>Requires 3 Tributes to Normal Summon (cannot b...</td>\n",
       "    </tr>\n",
       "    <tr>\n",
       "      <th>317</th>\n",
       "      <td>Slifer the Sky Dragon</td>\n",
       "      <td>EGS001.bmp</td>\n",
       "      <td>Requires 3 Tributes to Normal Summon (cannot b...</td>\n",
       "    </tr>\n",
       "    <tr>\n",
       "      <th>318</th>\n",
       "      <td>The Winged Dragon of Ra</td>\n",
       "      <td>LED000.bmp</td>\n",
       "      <td>Cannot be Special Summoned. Requires 3 Tribute...</td>\n",
       "    </tr>\n",
       "  </tbody>\n",
       "</table>\n",
       "<p>319 rows × 3 columns</p>\n",
       "</div>"
      ],
      "text/plain": [
       "                            Name        File  \\\n",
       "0    Rhaimundos of the Red Sword  AP8014.bmp   \n",
       "1                     Aqua Snake               \n",
       "2                    Aqua Dragon  MDP013.bmp   \n",
       "3       Unknown Warrior of Fiend  SDK017.bmp   \n",
       "4          Beastly Mirror Ritual  PRC002.bmp   \n",
       "..                           ...         ...   \n",
       "314                  Key Mace #2  WCP005.bmp   \n",
       "315              Laughing Flower               \n",
       "316        Obelisk the Tormentor  EGO001.bmp   \n",
       "317        Slifer the Sky Dragon  EGS001.bmp   \n",
       "318      The Winged Dragon of Ra  LED000.bmp   \n",
       "\n",
       "                                                  Desc  \n",
       "0    Armed with the Sword of Crimson Flames, this w...  \n",
       "1    This monster hypnotizes an opponent with the b...  \n",
       "2    \"Fairy Dragon\" + \"Amazon of the Seas\" + \"Zone ...  \n",
       "3    The speed of this warrior creates an intense v...  \n",
       "4    This card is used to Ritual Summon \"Fiend's Mi...  \n",
       "..                                                 ...  \n",
       "314       This fiend brings out the worst in everyone.  \n",
       "315  A flower whose laugh can confuse the minds of ...  \n",
       "316  Requires 3 Tributes to Normal Summon (cannot b...  \n",
       "317  Requires 3 Tributes to Normal Summon (cannot b...  \n",
       "318  Cannot be Special Summoned. Requires 3 Tribute...  \n",
       "\n",
       "[319 rows x 3 columns]"
      ]
     },
     "execution_count": 94,
     "metadata": {},
     "output_type": "execute_result"
    }
   ],
   "source": [
    "df[['Name', 'File', 'Desc']]"
   ]
  },
  {
   "cell_type": "code",
   "execution_count": 95,
   "id": "5fd4d549-2b4b-4aa3-be5e-adec8d82e789",
   "metadata": {},
   "outputs": [
    {
     "data": {
      "text/plain": [
       "(151, 5)"
      ]
     },
     "execution_count": 95,
     "metadata": {},
     "output_type": "execute_result"
    }
   ],
   "source": [
    "df[df['File'] == ''].shape"
   ]
  },
  {
   "cell_type": "code",
   "execution_count": 99,
   "id": "3c6b5bba-8aa2-4807-a6c3-d29cf69b7f7c",
   "metadata": {},
   "outputs": [],
   "source": [
    "test = df[df['File'] != '']"
   ]
  },
  {
   "cell_type": "code",
   "execution_count": 100,
   "id": "8f0ea201-fb98-443c-88ef-e84f124ba783",
   "metadata": {},
   "outputs": [
    {
     "data": {
      "text/html": [
       "<div>\n",
       "<style scoped>\n",
       "    .dataframe tbody tr th:only-of-type {\n",
       "        vertical-align: middle;\n",
       "    }\n",
       "\n",
       "    .dataframe tbody tr th {\n",
       "        vertical-align: top;\n",
       "    }\n",
       "\n",
       "    .dataframe thead th {\n",
       "        text-align: right;\n",
       "    }\n",
       "</style>\n",
       "<table border=\"1\" class=\"dataframe\">\n",
       "  <thead>\n",
       "    <tr style=\"text-align: right;\">\n",
       "      <th></th>\n",
       "      <th>Name</th>\n",
       "      <th>File</th>\n",
       "      <th>Img</th>\n",
       "      <th>Imgs</th>\n",
       "      <th>Desc</th>\n",
       "    </tr>\n",
       "  </thead>\n",
       "  <tbody>\n",
       "  </tbody>\n",
       "</table>\n",
       "</div>"
      ],
      "text/plain": [
       "Empty DataFrame\n",
       "Columns: [Name, File, Img, Imgs, Desc]\n",
       "Index: []"
      ]
     },
     "execution_count": 100,
     "metadata": {},
     "output_type": "execute_result"
    }
   ],
   "source": [
    "test[test.duplicated()]"
   ]
  },
  {
   "cell_type": "code",
   "execution_count": null,
   "id": "372bb468-52fb-4bc4-83d7-b2ecbd17d329",
   "metadata": {},
   "outputs": [],
   "source": []
  }
 ],
 "metadata": {
  "kernelspec": {
   "display_name": "Python 3 (ipykernel)",
   "language": "python",
   "name": "python3"
  },
  "language_info": {
   "codemirror_mode": {
    "name": "ipython",
    "version": 3
   },
   "file_extension": ".py",
   "mimetype": "text/x-python",
   "name": "python",
   "nbconvert_exporter": "python",
   "pygments_lexer": "ipython3",
   "version": "3.9.13"
  }
 },
 "nbformat": 4,
 "nbformat_minor": 5
}
